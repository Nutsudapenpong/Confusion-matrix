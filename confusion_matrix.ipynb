{
  "nbformat": 4,
  "nbformat_minor": 0,
  "metadata": {
    "colab": {
      "name": "Untitled31.ipynb",
      "provenance": [],
      "authorship_tag": "ABX9TyM75vblB0WlfQk1HCwXz8Jo",
      "include_colab_link": true
    },
    "kernelspec": {
      "name": "python3",
      "display_name": "Python 3"
    },
    "language_info": {
      "name": "python"
    }
  },
  "cells": [
    {
      "cell_type": "markdown",
      "metadata": {
        "id": "view-in-github",
        "colab_type": "text"
      },
      "source": [
        "<a href=\"https://colab.research.google.com/github/Nutsudapenpong/Confusion-matrix/blob/main/confusion_matrix.ipynb\" target=\"_parent\"><img src=\"https://colab.research.google.com/assets/colab-badge.svg\" alt=\"Open In Colab\"/></a>"
      ]
    },
    {
      "cell_type": "code",
      "source": [
        "import json \n",
        "import pandas as pd\n",
        "import numpy as np\n",
        "from pathlib import Path\n",
        "import PIL\n",
        "from PIL import Image\n",
        "import os, time, random\n",
        "import cv2, torch\n",
        "from tqdm.auto import tqdm\n",
        "import shutil as sh\n",
        "from IPython.display import Image, clear_output\n",
        "import matplotlib.pyplot as plt\n",
        "%matplotlib inline"
      ],
      "metadata": {
        "id": "_GhaW4Y_7V0x"
      },
      "execution_count": 2,
      "outputs": []
    },
    {
      "cell_type": "code",
      "source": [
        "import torch\n",
        "from IPython.display import Image  # to display images\n",
        "print('Setup complete. Using torch %s %s' % (torch.__version__, torch.cuda.get_device_properties(1) if torch.cuda.is_available() else 'CPU'))"
      ],
      "metadata": {
        "colab": {
          "base_uri": "https://localhost:8080/"
        },
        "id": "SZVtQaPB7P8S",
        "outputId": "5d7e6588-2195-4bf9-c430-d9b267baebe9"
      },
      "execution_count": 3,
      "outputs": [
        {
          "output_type": "stream",
          "name": "stdout",
          "text": [
            "Setup complete. Using torch 1.10.0+cu111 CPU\n"
          ]
        }
      ]
    },
    {
      "cell_type": "code",
      "source": [
        "from google.colab import drive\n",
        "drive.mount('/content/drive')"
      ],
      "metadata": {
        "colab": {
          "base_uri": "https://localhost:8080/"
        },
        "id": "ixOEB-qEVd-t",
        "outputId": "cfce43cb-5c69-43a7-9265-993d9d7381a4"
      },
      "execution_count": 4,
      "outputs": [
        {
          "output_type": "stream",
          "name": "stdout",
          "text": [
            "Mounted at /content/drive\n"
          ]
        }
      ]
    },
    {
      "cell_type": "code",
      "source": [
        "## create csv files from txtx files\n",
        "##  get label predict in Directory \n",
        "## convert .txt to .csv \n",
        "import glob\n",
        "import csv\n",
        "\n",
        "def create_file(name):\n",
        "    ## get label predict in Directory \n",
        "    #PATH = f'/media/tohn/SSD_ex/YOLOv5/result_5m/prostate_prosmise12/scorethr_e400_prosmise12testset/{name}/labels/'\n",
        "    #PATH = f'/content/drive/MyDrive/image_yolo/yolov5/runs/val/{name}/labels/'\n",
        "    PATH = f'/content/drive/MyDrive/image_yolo/yolov5/test/labels/'\n",
        "    path_txt = glob.glob(f\"{PATH}*.txt\")\n",
        "    os.chdir(PATH)\n",
        "    for p in path_txt:\n",
        "        with open(p, 'r') as in_file:\n",
        "            stripped = (line.strip() for line in in_file)\n",
        "            lines = (line.split(\" \") for line in stripped if line)\n",
        "            name = p.rsplit('.',1)[0]\n",
        "            name = name +'.csv'\n",
        "            with open(name, 'w') as out_file:\n",
        "                writer = csv.writer(out_file)\n",
        "                writer.writerow(('class', 'x-center', 'y-center', 'w', 'h', 'conf'))\n",
        "                writer.writerows(lines)   "
      ],
      "metadata": {
        "id": "NaZFUVn1kIoY"
      },
      "execution_count": 5,
      "outputs": []
    },
    {
      "cell_type": "code",
      "source": [
        "#create csv file\n",
        "name_file = ['exp26', 'exp27', 'exp28', 'exp29', 'with', 'without']\n",
        "#exp26 = create_file(name_file[0])\n",
        "#exp27 = create_file(name_file[1])\n",
        "#exp28 = create_file(name_file[2])\n",
        "#exp29 = create_file(name_file[3])\n",
        "#with_ = create_file(name_file[4])\n",
        "#without = create_file(name_file[5])"
      ],
      "metadata": {
        "id": "3wrAp_4CAvy_"
      },
      "execution_count": 6,
      "outputs": []
    },
    {
      "cell_type": "code",
      "source": [
        "##### Concat CSV to 1 file\n",
        "def concat_df(PATH, name_i) : ##path/to/lable/.csv/  ## name/scorethr/ \n",
        "    path_csv = glob.glob(f\"{PATH}*.csv\")\n",
        "    df_  = list()\n",
        "    for c in path_csv:\n",
        "        print(c)\n",
        "        df = pd.read_csv(c)\n",
        "        print(df)\n",
        "        image = c.split('/')[-1]\n",
        "        print(image)\n",
        "        image = image.rsplit('.',1)[0]+'.jpg'\n",
        "        print(image)\n",
        "        df['fileName'] = image\n",
        "        df_.append(df)\n",
        "    all_csv = pd.concat(df_ ,axis=0).reset_index(drop=True)\n",
        "    all_csv.to_csv(f'{PATH}prosmise12-{name_i}.csv')\n",
        "    ## Return/csv/table/all/score/thr\n",
        "    return all_csv "
      ],
      "metadata": {
        "id": "AOS-jOipl5Pr"
      },
      "execution_count": 7,
      "outputs": []
    },
    {
      "cell_type": "code",
      "source": [
        "#already concatenate\n",
        "#name_file = ['without']\n",
        "#PATH = f'/content/drive/MyDrive/image_yolo/yolov5/test/labels/'\n",
        "#concat_df(PATH, name_file[0])"
      ],
      "metadata": {
        "id": "Nn8DwV5mw3iX"
      },
      "execution_count": 8,
      "outputs": []
    },
    {
      "cell_type": "code",
      "source": [
        "#already concatenate\n",
        "#name_file = ['exp27']\n",
        "#PATH = f'/content/drive/MyDrive/image_yolo/yolov5/runs/val/exp27/labels/'\n",
        "#concat_df(PATH, name_file[0])"
      ],
      "metadata": {
        "id": "OsXilDGXJ4lX"
      },
      "execution_count": 9,
      "outputs": []
    },
    {
      "cell_type": "code",
      "source": [
        "#already concatenate\n",
        "#name_file = ['exp29']\n",
        "#PATH = f'/content/drive/MyDrive/image_yolo/yolov5/runs/val/exp29/labels/'\n",
        "#concat_df(PATH, name_file[0])"
      ],
      "metadata": {
        "id": "rtWlgel5u8_h"
      },
      "execution_count": 10,
      "outputs": []
    },
    {
      "cell_type": "code",
      "source": [
        "#install rebox\n",
        "!pip install rebox"
      ],
      "metadata": {
        "colab": {
          "base_uri": "https://localhost:8080/"
        },
        "id": "80oXQt3tCm08",
        "outputId": "9901cfc2-88ff-4b4d-bd5a-0a1a7026b416"
      },
      "execution_count": 11,
      "outputs": [
        {
          "output_type": "stream",
          "name": "stdout",
          "text": [
            "Collecting rebox\n",
            "  Downloading rebox-0.1.1-py3-none-any.whl (9.3 kB)\n",
            "Installing collected packages: rebox\n",
            "Successfully installed rebox-0.1.1\n"
          ]
        }
      ]
    },
    {
      "cell_type": "code",
      "source": [
        "from rebox import BBox\n",
        "from rebox.formats import yolo, coco, pascal\n",
        "\n",
        "# DataFrame0 = all_csv\n",
        "def rebox(DataFrame0) :  ## DataFrame0 from concat_df\n",
        "    #Opath = '/media/tohn/SSD_ex/ProstateCancer/PROMISE12_image_50_50/test/'\n",
        "    Opath = '/content/drive/MyDrive/image_yolo/yolov5/test/images/'\n",
        "    ###เก็บค่า shape imagesของ GT Bbox\n",
        "    image_width_ = list()  #-- shape[1]\n",
        "    image_height_ = list()  #-- shape[0]\n",
        "    # image_height = 640 # pixels\n",
        "    # image_width = 640 # pixels\n",
        "    x_min_ = list()\n",
        "    y_min_ = list()\n",
        "    x_MAX_= list()\n",
        "    y_MAX_ = list()\n",
        "\n",
        "    for i in range(len(DataFrame0)) :\n",
        "        x_Center = DataFrame0['x-center'][i] \n",
        "        y_Center = DataFrame0['y-center'][i]\n",
        "        width = DataFrame0['w'][i] \n",
        "        height  = DataFrame0['h'][i]\n",
        "        img_path_i = Opath+DataFrame0.fileName[i]\n",
        "        image_width = cv2.imread(img_path_i).shape[1]\n",
        "        image_height = cv2.imread(img_path_i).shape[0]\n",
        "        yolo_bbox = BBox([x_Center, y_Center, width, height], yolo) # using built-in 'yolo_format'\n",
        "        coco_bbox = yolo_bbox.as_format(coco, image_width, image_height) # to convert to built-in format 'coco'\n",
        "        pascal_bbox = coco_bbox.as_format(pascal)\n",
        "        bbox = pascal_bbox.value\n",
        "        x_min = bbox[0]\n",
        "        x_min_.append(x_min)\n",
        "        y_min = bbox[1]\n",
        "        y_min_.append(y_min)\n",
        "        x_MAX = bbox[2]\n",
        "        x_MAX_.append(x_MAX)\n",
        "        y_MAX = bbox[3]\n",
        "        y_MAX_.append(y_MAX)\n",
        "\n",
        "    DataFrame0['pred_xmin'] = x_min_\n",
        "    DataFrame0['pred_ymin'] = y_min_\n",
        "    DataFrame0['pred_xmax'] = x_MAX_\n",
        "    DataFrame0['pred_ymax'] = y_MAX_\n",
        "\n",
        "    return DataFrame0 "
      ],
      "metadata": {
        "id": "p6Q3ZH2-l9lQ"
      },
      "execution_count": 12,
      "outputs": []
    },
    {
      "cell_type": "code",
      "source": [
        "# test\n",
        "def reboxgt(DataFrame0) :  ## DataFrame0 from concat_df\n",
        "    #Opath = '/media/tohn/SSD_ex/ProstateCancer/PROMISE12_image_50_50/test/'\n",
        "    Opath = '/content/drive/MyDrive/image_yolo/yolov5/test/images/'\n",
        "    ###เก็บค่า shape imagesของ GT Bbox\n",
        "    image_width_ = list()  #-- shape[1]\n",
        "    image_height_ = list()  #-- shape[0]\n",
        "    # image_height = 640 # pixels\n",
        "    # image_width = 640 # pixels\n",
        "    x_min_ = list()\n",
        "    y_min_ = list()\n",
        "    x_MAX_= list()\n",
        "    y_MAX_ = list()\n",
        "\n",
        "    for i in range(len(DataFrame0)) :\n",
        "        left = DataFrame0['x-center'][i] \n",
        "        top = DataFrame0['y-center'][i]\n",
        "        w = DataFrame0['w'][i] \n",
        "        h  = DataFrame0['h'][i]\n",
        "        coco_bbox = BBox([left,top,w,h], coco)\n",
        "        pascal_bbox = coco_bbox.as_format(pascal)\n",
        "        bbox = pascal_bbox.value\n",
        "        x_min = bbox[0]\n",
        "        x_min_.append(x_min)\n",
        "        y_min = bbox[1]\n",
        "        y_min_.append(y_min)\n",
        "        x_MAX = bbox[2]\n",
        "        x_MAX_.append(x_MAX)\n",
        "        y_MAX = bbox[3]\n",
        "        y_MAX_.append(y_MAX)\n",
        "\n",
        "    DataFrame0['gt_xmin'] = x_min_\n",
        "    DataFrame0['gt_ymin'] = y_min_\n",
        "    DataFrame0['gt_xmax'] = x_MAX_\n",
        "    DataFrame0['gt_ymax'] = y_MAX_\n",
        "\n",
        "    return DataFrame0 "
      ],
      "metadata": {
        "id": "kiE1rVie_uDL"
      },
      "execution_count": 13,
      "outputs": []
    },
    {
      "cell_type": "code",
      "source": [
        "#รวม prediction box ใน 1 image \n",
        "def Get_1boxPre(table) :\n",
        "    a = table.groupby(['fileName']).count()\n",
        "    a = table.iloc[:,0]\n",
        "    aa_ =[]\n",
        "    for  i in  range(len(a)):\n",
        "        aa = a[i]\n",
        "        aa_.append(aa)\n",
        "    name = sorted(list(set(table['fileName'])))\n",
        "\n",
        "    fileName_, x1s_, y1s_, x2s_, y2s_, score_, =[], [], [], [], [], []\n",
        "    for j in name:\n",
        "        x1_, y1_, x2_, y2_, score = [], [], [], [], []\n",
        "        fileName_.append(j)\n",
        "        for i in range(len(table)):\n",
        "            fileName = table['fileName'][i]\n",
        "            if fileName == j:\n",
        "                x1_.append(table['pred_xmin'][i])\n",
        "                y1_.append(table['pred_ymin'][i])\n",
        "                x2_.append(table['pred_xmax'][i])\n",
        "                y2_.append(table['pred_ymax'][i])\n",
        "                score.append(table['conf'][i])\n",
        "\n",
        "        x1s_.append(x1_)\n",
        "        y1s_.append(y1_)\n",
        "        x2s_.append(x2_)\n",
        "        y2s_.append(y2_)\n",
        "        score_.append(score)\n",
        "\n",
        "    result = {'fileName': fileName_, 'pred_xmin': x1s_,'pred_ymin': y1s_,'pred_xmax': x2s_,'pred_ymax': y2s_, 'pred_score': score_}\n",
        "    result = pd.DataFrame(result, columns=['fileName', 'pred_xmin','pred_ymin','pred_xmax','pred_ymax', 'pred_score','pred_count'])\n",
        "\n",
        "    count_ = list()\n",
        "    for k in range(len(result)):\n",
        "        count = len(result['pred_score'][k])\n",
        "        count_.append(count)\n",
        "\n",
        "    result['pred_count'] = count_\n",
        "\n",
        "    return result "
      ],
      "metadata": {
        "id": "LJeEahTemLSI"
      },
      "execution_count": 14,
      "outputs": []
    },
    {
      "cell_type": "code",
      "source": [
        "#รวม actual box ใน 1 image \n",
        "def Get_1boxAct(test) :\n",
        "    \n",
        "    a = test.groupby(['fileName']).count()\n",
        "    a = a.iloc[:,0]\n",
        "    aa_ = []\n",
        "    for  i in  range(len(a)):\n",
        "        aa = a[i]\n",
        "        aa_.append(aa)\n",
        "    name = sorted(list(set(test['fileName'])))\n",
        "    path = f'/content/drive/MyDrive/image_yolo/yolov5/test/images/{name}'\n",
        "    #path = sorted(list(set(test['img_path'])))\n",
        "\n",
        "    fileName_, x1s_, y1s_, x2s_, y2s_ = [], [], [], [], []\n",
        "    for j in name:\n",
        "        x1_, y1_, x2_, y2_ = [], [], [], []\n",
        "        fileName_.append(j)\n",
        "        for i in range(len(test)):\n",
        "            fileName = test['fileName'][i] \n",
        "            if fileName == j:\n",
        "                x1_.append(test['gt_xmin'][i])\n",
        "                y1_.append(test['gt_ymin'][i])\n",
        "                x2_.append(test['gt_xmax'][i])\n",
        "                y2_.append(test['gt_ymax'][i])\n",
        "\n",
        "        x1s_.append(x1_)\n",
        "        y1s_.append(y1_)\n",
        "        x2s_.append(x2_)\n",
        "        y2s_.append(y2_)\n",
        "        #Path_.append(test['img_path'][i])\n",
        "\n",
        "    test_ = {'fileName': fileName_, 'Path':path, 'gt_xmin': x1s_,'gt_ymin': y1s_,'gt_xmax': x2s_,'gt_ymax': y2s_, 'count': aa_}\n",
        "    test_ = pd.DataFrame(test_, columns=['fileName', 'Path', 'gt_xmin','gt_ymin','gt_xmax','gt_ymax', 'count'])\n",
        "\n",
        "#     print(test_.shape)\n",
        "#     test_.head()\n",
        "    return test_"
      ],
      "metadata": {
        "id": "zcS8GFQVmUvx"
      },
      "execution_count": 15,
      "outputs": []
    },
    {
      "cell_type": "code",
      "source": [
        "def map_table(test_, result_rebox) :## Paremeter -->>> test_ == test dataframe, result == predict dataframe \n",
        "    ## merge table \n",
        "    df_merge = pd.merge(test_, result_rebox, how=\"outer\", on=[\"fileName\", \"fileName\"])\n",
        "\n",
        "    return df_merge"
      ],
      "metadata": {
        "id": "Iho8cZ87meJJ"
      },
      "execution_count": 16,
      "outputs": []
    },
    {
      "cell_type": "code",
      "source": [
        "#tb = df_merge\n",
        "def fill_(df_merge):\n",
        "    columns_ = ['pred_xmin', 'pred_ymin', 'pred_xmax', 'pred_ymax', 'pred_score']\n",
        "    for col in columns_: \n",
        "        for row in df_merge.loc[df_merge[col].isnull(), col].index:   ##for columns type is list \n",
        "            df_merge.at[row, col] = []\n",
        "\n",
        "    for row in df_merge.loc[df_merge.pred_count.isnull(), 'pred_count'].index: ##for columns type is float\n",
        "        df_merge.at[row, 'pred_count'] = 0\n",
        "\n",
        "    return df_merge"
      ],
      "metadata": {
        "id": "QNyGaZi3mevR"
      },
      "execution_count": 17,
      "outputs": []
    },
    {
      "cell_type": "code",
      "source": [
        "def IoUfunction(res):\n",
        "    pre_ ,  gt_ = [], []\n",
        "    i = 0\n",
        "\n",
        "    for j in range(len(res['pred_xmin'].tolist()[i])):\n",
        "        xmin_pre = int(res['pred_xmin'].tolist()[i][j])\n",
        "        ymin_pre = int(res['pred_ymin'].tolist()[i][j])\n",
        "        xmax_pre = int(res['pred_xmax'].tolist()[i][j])\n",
        "        ymax_pre = int(res['pred_ymax'].tolist()[i][j])\n",
        "        pre = [xmin_pre, ymin_pre, xmax_pre, ymax_pre]\n",
        "        pre_.append(pre)\n",
        "\n",
        "    for j in range(len(res['gt_xmin'].tolist()[i])):\n",
        "        xmin_gt= int(res['gt_xmin'].tolist()[i][j])\n",
        "        ymin_gt = int(res['gt_ymin'].tolist()[i][j])\n",
        "        xmax_gt= int(res['gt_xmax'].tolist()[i][j])\n",
        "        ymax_gt = int(res['gt_ymax'].tolist()[i][j])\n",
        "        gt = [xmin_gt, ymin_gt, xmax_gt, ymax_gt]\n",
        "        gt_.append(gt)\n",
        "\n",
        "    #ป้องกัน ไม่มีผล predict\n",
        "    if pre_ == []:   ##if pre_ == np.NaN ## check NaN value()\n",
        "        iou_pred = torch.tensor([0], dtype=torch.float)\n",
        "        iou_gt = torch.tensor([0], dtype=torch.float)\n",
        "    else:\n",
        "        box1 = torch.tensor(pre_, dtype=torch.float)\n",
        "        box2 = torch.tensor(gt_, dtype=torch.float)\n",
        "        iou_pred = bops.box_iou(box1, box2)\n",
        "        iou_gt = bops.box_iou(box2, box1)\n",
        "\n",
        "    return iou_pred, iou_gt"
      ],
      "metadata": {
        "id": "ZXk9_TFJmiAm"
      },
      "execution_count": 18,
      "outputs": []
    },
    {
      "cell_type": "code",
      "source": [
        "import torch\n",
        "import torchvision.ops.boxes as bops\n",
        "\n",
        "def EvaluationTeble(result, threshold_iou):\n",
        "    IoU_pred, IoUavg_img_ = [], []\n",
        "    fileName = result['fileName'].tolist()\n",
        "\n",
        "    TP, FP, FN = [], [], []\n",
        "    for i in fileName:   \n",
        "        #IoU Function\n",
        "        res = result[result['fileName'] == i ]\n",
        "        Gt_count = res['count'].tolist()[0]\n",
        "        pre_count = res['pred_count'].tolist()[0]\n",
        "        iou_pred, iou_gt = IoUfunction(res)\n",
        "        \n",
        "        if pre_count == 0 :\n",
        "            TP.append(0)\n",
        "            FP.append(0)\n",
        "            FN.append(Gt_count) \n",
        "            IoU_pred.append(torch.tensor([0], dtype=torch.float))\n",
        "        else:\n",
        "            '''Box Predict checking '''\n",
        "#             iou_PdGt_ = []\n",
        "#             IoUavg_im = []\n",
        "            iou_tp_ =  []\n",
        "            iou_fp_ =  []\n",
        "            '''1 . TP = number of detections with IoU>=0.5 '''\n",
        "            for i in range(len(iou_pred)):  ### \n",
        "                iou_tp = max(iou_pred[i])\n",
        "                if iou_tp == threshold_iou:\n",
        "                    iou_tp = 1\n",
        "                    iou_tp_.append(iou_tp)\n",
        "                elif iou_tp > threshold_iou:\n",
        "                    iou_tp = 1\n",
        "                    iou_tp_.append(iou_tp)\n",
        "\n",
        "            ''' 2 . FP = number of detections with IoU<0.5 or detected more than once '''\n",
        "            for i in range(len(iou_pred)):  ### \n",
        "                iou_fp = max(iou_pred[i])\n",
        "                if iou_fp < threshold_iou:\n",
        "                    iou_fp = 0\n",
        "                    iou_fp_.append(iou_fp)\n",
        "\n",
        "            #TP,FP\n",
        "            tp, fp = 0, 0\n",
        "            for i in list(set(iou_tp_)):\n",
        "                if len(iou_tp_) != 0:\n",
        "                    i==1\n",
        "                    tp = iou_tp_.count(i)\n",
        "                else:\n",
        "                    tp=0\n",
        "                    \n",
        "            for j in list(set(iou_fp_)):\n",
        "                if len(iou_fp_) != 0:\n",
        "                    j==0\n",
        "                    fp = iou_fp_.count(j)\n",
        "                else:\n",
        "                    fp=0\n",
        "                    \n",
        "            if tp > Gt_count:\n",
        "                tp_gt = tp-Gt_count\n",
        "                tp = Gt_count\n",
        "                fp = fp+tp_gt\n",
        "\n",
        "            ''' 3 . FN = number of detections with IoU<0.5 '''\n",
        "            fn = Gt_count-tp            \n",
        "            \n",
        "            TP.append(tp)\n",
        "            FP.append(fp)\n",
        "            FN.append(fn) \n",
        "            IoU_pred.append(iou_pred)\n",
        "\n",
        "    result['IoU_img'] = IoU_pred\n",
        "    result['TP'] = TP\n",
        "    result['FP'] = FP\n",
        "    result['FN'] = FN\n",
        "\n",
        "    return result"
      ],
      "metadata": {
        "id": "kv04xAvkm2SL"
      },
      "execution_count": 19,
      "outputs": []
    },
    {
      "cell_type": "markdown",
      "source": [
        "Start here"
      ],
      "metadata": {
        "id": "LlCARKbyJM6C"
      }
    },
    {
      "cell_type": "code",
      "source": [
        "import glob\n",
        "import csv\n",
        "\n",
        "##Import Test set dataframe\n",
        "test = pd.read_csv('/content/drive/MyDrive/image_yolo/yolov5/runs/val/promise12/without.csv')\n",
        "DataFrame0 = pd.read_csv('/content/drive/MyDrive/image_yolo/yolov5/runs/val/promise12/exp29.csv')\n",
        "threshold_score = [0.60]\n",
        "#name_thr = ['PCI0','PCI01','PCI02','PCI03','PCI04','PCI05','PCI06','PCI07','PCI08','PCI09']\n",
        "name_thr = ['exp29']\n",
        "precision_, recall_, sum_TP_, sum_FP_, sum_FN_, sum_count_, sum_pred_count_ ,name_thr_, threshold_score_ = [],[],[],[],[],[],[],[],[]\n",
        "sum_count, sum_pred_count = [],[]\n",
        "threshold_iou = 0.50\n",
        "### Check file \n",
        "for i, n in zip(range(len(threshold_score)), range(len(name_thr))):\n",
        "    name_i = name_thr[n]\n",
        "    threshold_score_i = threshold_score[i]\n",
        "    PATH = f'/content/drive/MyDrive/image_yolo/yolov5/runs/val/{name_i}/labels/'\n",
        "    path_txt = glob.glob(f\"{PATH}*.txt\")\n",
        "    if len(path_txt) != 0:\n",
        "        print(\"____\")\n",
        "        table = rebox(DataFrame0)\n",
        "        result_rebox = Get_1boxPre(table)\n",
        "        table_ = reboxgt(test)\n",
        "        test_ = Get_1boxAct(table_)\n",
        "        df_merge = map_table(test_, result_rebox)\n",
        "        result = fill_(df_merge)\n",
        "        Eva_table = EvaluationTeble(result, threshold_iou)\n",
        "        ### Calculate perfermance matrix \n",
        "        sum_TP = sum(list(Eva_table.TP))\n",
        "        sum_FP = sum(list(Eva_table.FP))\n",
        "        sum_FN = sum(list(Eva_table.FN))\n",
        "        sum_count = sum(list(Eva_table['count']))\n",
        "        sum_pred_count = sum(list(Eva_table.pred_count))\n",
        "        recall = sum_TP/(sum_TP+sum_FN)\n",
        "        precision = sum_TP/(sum_TP+sum_FP)\n",
        "        ### Append perfermance to list \n",
        "        precision_.append(precision)\n",
        "        recall_.append(recall)\n",
        "        sum_TP_.append(sum_TP)\n",
        "        sum_FP_.append(sum_FP)\n",
        "        sum_FN_.append(sum_FN)\n",
        "        sum_count_.append(sum_count)\n",
        "        sum_pred_count_.append(sum_pred_count)\n",
        "    elif len(path_txt) == 0:\n",
        "        sum_TP = 0\n",
        "        sum_FP = 0\n",
        "        sum_FN = 0\n",
        "        recall = 0\n",
        "        precision = 0\n",
        "        sum_pred_count = 0\n",
        "        sum_count = sum(list(test_['count']))\n",
        "        ### Append perfermance to list \n",
        "        precision_.append(precision)\n",
        "        recall_.append(recall)\n",
        "        sum_TP_.append(sum_TP)\n",
        "        sum_FP_.append(sum_FP)\n",
        "        sum_FN_.append(sum_FN)\n",
        "        sum_count_.append(sum_count)\n",
        "        sum_pred_count_.append(sum_pred_count)\n",
        "        \n",
        "    name_thr_.append(name_i)\n",
        "    threshold_score_ .append(threshold_score_i)"
      ],
      "metadata": {
        "colab": {
          "base_uri": "https://localhost:8080/",
          "height": 373
        },
        "id": "KQZHsZL-m3mu",
        "outputId": "5e02885f-1000-4082-facd-59bc4b6f6e0d"
      },
      "execution_count": null,
      "outputs": [
        {
          "metadata": {
            "tags": null
          },
          "name": "stdout",
          "output_type": "stream",
          "text": [
            "____\n"
          ]
        },
        {
          "output_type": "error",
          "ename": "KeyboardInterrupt",
          "evalue": "ignored",
          "traceback": [
            "\u001b[0;31m---------------------------------------------------------------------------\u001b[0m",
            "\u001b[0;31mKeyboardInterrupt\u001b[0m                         Traceback (most recent call last)",
            "\u001b[0;32m<ipython-input-20-1754fc8d6c30>\u001b[0m in \u001b[0;36m<module>\u001b[0;34m()\u001b[0m\n\u001b[1;32m     19\u001b[0m     \u001b[0;32mif\u001b[0m \u001b[0mlen\u001b[0m\u001b[0;34m(\u001b[0m\u001b[0mpath_txt\u001b[0m\u001b[0;34m)\u001b[0m \u001b[0;34m!=\u001b[0m \u001b[0;36m0\u001b[0m\u001b[0;34m:\u001b[0m\u001b[0;34m\u001b[0m\u001b[0;34m\u001b[0m\u001b[0m\n\u001b[1;32m     20\u001b[0m         \u001b[0mprint\u001b[0m\u001b[0;34m(\u001b[0m\u001b[0;34m\"____\"\u001b[0m\u001b[0;34m)\u001b[0m\u001b[0;34m\u001b[0m\u001b[0;34m\u001b[0m\u001b[0m\n\u001b[0;32m---> 21\u001b[0;31m         \u001b[0mtable\u001b[0m \u001b[0;34m=\u001b[0m \u001b[0mrebox\u001b[0m\u001b[0;34m(\u001b[0m\u001b[0mDataFrame0\u001b[0m\u001b[0;34m)\u001b[0m\u001b[0;34m\u001b[0m\u001b[0;34m\u001b[0m\u001b[0m\n\u001b[0m\u001b[1;32m     22\u001b[0m         \u001b[0mresult_rebox\u001b[0m \u001b[0;34m=\u001b[0m \u001b[0mGet_1boxPre\u001b[0m\u001b[0;34m(\u001b[0m\u001b[0mtable\u001b[0m\u001b[0;34m)\u001b[0m\u001b[0;34m\u001b[0m\u001b[0;34m\u001b[0m\u001b[0m\n\u001b[1;32m     23\u001b[0m         \u001b[0mtable_\u001b[0m \u001b[0;34m=\u001b[0m \u001b[0mreboxgt\u001b[0m\u001b[0;34m(\u001b[0m\u001b[0mtest\u001b[0m\u001b[0;34m)\u001b[0m\u001b[0;34m\u001b[0m\u001b[0;34m\u001b[0m\u001b[0m\n",
            "\u001b[0;32m<ipython-input-12-5d7bbc56ca87>\u001b[0m in \u001b[0;36mrebox\u001b[0;34m(DataFrame0)\u001b[0m\n\u001b[1;32m     22\u001b[0m         \u001b[0mheight\u001b[0m  \u001b[0;34m=\u001b[0m \u001b[0mDataFrame0\u001b[0m\u001b[0;34m[\u001b[0m\u001b[0;34m'h'\u001b[0m\u001b[0;34m]\u001b[0m\u001b[0;34m[\u001b[0m\u001b[0mi\u001b[0m\u001b[0;34m]\u001b[0m\u001b[0;34m\u001b[0m\u001b[0;34m\u001b[0m\u001b[0m\n\u001b[1;32m     23\u001b[0m         \u001b[0mimg_path_i\u001b[0m \u001b[0;34m=\u001b[0m \u001b[0mOpath\u001b[0m\u001b[0;34m+\u001b[0m\u001b[0mDataFrame0\u001b[0m\u001b[0;34m.\u001b[0m\u001b[0mfileName\u001b[0m\u001b[0;34m[\u001b[0m\u001b[0mi\u001b[0m\u001b[0;34m]\u001b[0m\u001b[0;34m\u001b[0m\u001b[0;34m\u001b[0m\u001b[0m\n\u001b[0;32m---> 24\u001b[0;31m         \u001b[0mimage_width\u001b[0m \u001b[0;34m=\u001b[0m \u001b[0mcv2\u001b[0m\u001b[0;34m.\u001b[0m\u001b[0mimread\u001b[0m\u001b[0;34m(\u001b[0m\u001b[0mimg_path_i\u001b[0m\u001b[0;34m)\u001b[0m\u001b[0;34m.\u001b[0m\u001b[0mshape\u001b[0m\u001b[0;34m[\u001b[0m\u001b[0;36m1\u001b[0m\u001b[0;34m]\u001b[0m\u001b[0;34m\u001b[0m\u001b[0;34m\u001b[0m\u001b[0m\n\u001b[0m\u001b[1;32m     25\u001b[0m         \u001b[0mimage_height\u001b[0m \u001b[0;34m=\u001b[0m \u001b[0mcv2\u001b[0m\u001b[0;34m.\u001b[0m\u001b[0mimread\u001b[0m\u001b[0;34m(\u001b[0m\u001b[0mimg_path_i\u001b[0m\u001b[0;34m)\u001b[0m\u001b[0;34m.\u001b[0m\u001b[0mshape\u001b[0m\u001b[0;34m[\u001b[0m\u001b[0;36m0\u001b[0m\u001b[0;34m]\u001b[0m\u001b[0;34m\u001b[0m\u001b[0;34m\u001b[0m\u001b[0m\n\u001b[1;32m     26\u001b[0m         \u001b[0myolo_bbox\u001b[0m \u001b[0;34m=\u001b[0m \u001b[0mBBox\u001b[0m\u001b[0;34m(\u001b[0m\u001b[0;34m[\u001b[0m\u001b[0mx_Center\u001b[0m\u001b[0;34m,\u001b[0m \u001b[0my_Center\u001b[0m\u001b[0;34m,\u001b[0m \u001b[0mwidth\u001b[0m\u001b[0;34m,\u001b[0m \u001b[0mheight\u001b[0m\u001b[0;34m]\u001b[0m\u001b[0;34m,\u001b[0m \u001b[0myolo\u001b[0m\u001b[0;34m)\u001b[0m \u001b[0;31m# using built-in 'yolo_format'\u001b[0m\u001b[0;34m\u001b[0m\u001b[0;34m\u001b[0m\u001b[0m\n",
            "\u001b[0;31mKeyboardInterrupt\u001b[0m: "
          ]
        }
      ]
    },
    {
      "cell_type": "code",
      "source": [
        "print(result_rebox)"
      ],
      "metadata": {
        "id": "q2-bvMO1Qzo4"
      },
      "execution_count": null,
      "outputs": []
    },
    {
      "cell_type": "code",
      "source": [
        "print(test_)"
      ],
      "metadata": {
        "id": "dbFdmFTmQ9pX"
      },
      "execution_count": null,
      "outputs": []
    },
    {
      "cell_type": "code",
      "source": [
        "df_merge.head()"
      ],
      "metadata": {
        "id": "bOMiJZMkRUst"
      },
      "execution_count": null,
      "outputs": []
    },
    {
      "cell_type": "code",
      "source": [
        "print(len(precision_))\n",
        "print(len(recall_))\n",
        "print(len(sum_TP_))\n",
        "print(len(sum_FP_))\n",
        "print(len(sum_FN_))\n",
        "print(len(sum_count_))\n",
        "print(len(sum_pred_count_))\n",
        "print(len(threshold_score_))"
      ],
      "metadata": {
        "id": "HNtdtt_im8vy"
      },
      "execution_count": null,
      "outputs": []
    },
    {
      "cell_type": "code",
      "source": [
        "precision_"
      ],
      "metadata": {
        "id": "m7oR1R2_nACe"
      },
      "execution_count": null,
      "outputs": []
    },
    {
      "cell_type": "code",
      "source": [
        "recall_"
      ],
      "metadata": {
        "id": "UBnz7fJTnCZw"
      },
      "execution_count": null,
      "outputs": []
    },
    {
      "cell_type": "code",
      "source": [
        "i = np.arange(len(threshold_score_))\n",
        "roc0 = pd.DataFrame({'Threshold' : pd.Series(threshold_score_, index=i),'Precision' : pd.Series(precision_, index = i),'Recall' : pd.Series(recall_, index = i),\n",
        "                     'TP' : pd.Series(sum_TP_, index = i), 'FP' : pd.Series(sum_FP_, index = i), 'FN' : pd.Series(sum_FN_, index = i), \n",
        "                     'GT count' : pd.Series(sum_count_, index = i), 'Pre count' : pd.Series(sum_pred_count_, index = i)})\n",
        "roc0"
      ],
      "metadata": {
        "id": "VLl81sWCnHiT"
      },
      "execution_count": null,
      "outputs": []
    },
    {
      "cell_type": "code",
      "source": [
        "roc0 = roc0.sort_values(by='Threshold', ascending=True)\n",
        "#fix_value = [{'Threshold':0.000,'Precision':0.000,'Recall':1.000}]\n",
        "#roc0 = roc0.append(fix_value,ignore_index=True,sort=False)\n",
        "#roc0 = roc0.apply(np.roll, shift=1) #move he last row to the first\n",
        "roc0.loc[roc0.index[-1], 'Precision'] = 1.000\n",
        "roc0.loc[roc0.index[-1], 'Recall'] = 0.000\n",
        "roc0.loc[roc0.index[-1], 'TP'] = 0\n",
        "roc0.loc[roc0.index[-1], 'FP'] = 0\n",
        "roc0.loc[roc0.index[-1], 'FN'] = 0\n",
        "roc0.loc[roc0.index[-1], 'GT count'] = 19\n",
        "roc0.loc[roc0.index[-1], 'Pre count'] = 0\n",
        "roc0"
      ],
      "metadata": {
        "id": "qSAqOEAbnIWn"
      },
      "execution_count": null,
      "outputs": []
    },
    {
      "cell_type": "code",
      "source": [
        "Prec = roc0['Precision'].tolist()\n",
        "rec = roc0['Recall'].tolist()\n",
        "rec = np.array(rec)\n",
        "Prec = np.array(Prec)\n",
        "\n",
        "from sklearn import metrics\n",
        "#auc = metrics.auc(Prec, rec)\n",
        "#auc = metrics.auc(rec, Prec)\n",
        "print(\"Area Under Curve: %0.4f\" % auc)"
      ],
      "metadata": {
        "id": "f_NQrTZanMAd"
      },
      "execution_count": null,
      "outputs": []
    },
    {
      "cell_type": "code",
      "source": [
        "import matplotlib.pyplot as plt\n",
        "\n",
        "fig=plt.figure(figsize=(8, 5))\n",
        "# plotting points as a scatter plot\n",
        "plt.fill_between(rec, Prec, color='#95d0fc', alpha=0.4)\n",
        "plt.plot(rec, Prec, label= \"Precision-Recall Curve: AUC=%0.4f\"%auc, color= \"blue\",\n",
        "                marker= \".\",markerfacecolor='blue', markersize=10, alpha=0.4)\n",
        "\n",
        "# x-axis label\n",
        "plt.xlabel('Recall')\n",
        "# frequency label\n",
        "plt.ylabel('Precision')\n",
        "# plot title\n",
        "plt.title('Precision-Recall curve')\n",
        "# showing legend\n",
        "plt.legend()\n",
        "\n",
        "# function to show the plot\n",
        "plt.show()\n"
      ],
      "metadata": {
        "id": "x-nykt_EnPKn"
      },
      "execution_count": null,
      "outputs": []
    },
    {
      "cell_type": "code",
      "source": [
        "DataFrame0  = pd.read_csv(f'/media/tohn/SSD/YOLOv5/result_5s/prostate/scorethr_e400/PCI03/labels/prostate_custom_PCI03.csv')\n",
        "table = rebox(DataFrame0)\n",
        "result_rebox = Get_1boxPre(table)\n",
        "test_ = Get_1boxAct(test)\n",
        "df_merge = map_table(test_, result_rebox)\n",
        "result = fill_(df_merge)\n",
        "Eva_table = EvaluationTeble(result, threshold_iou)\n",
        "### Calculate perfermance matrix \n",
        "sum_TP = sum(list(Eva_table.TP))\n",
        "sum_FP = sum(list(Eva_table.FP))\n",
        "sum_FN = sum(list(Eva_table.FN))\n",
        "sum_count = sum(list(Eva_table['count']))\n",
        "sum_pred_count = sum(list(Eva_table.pred_count))\n",
        "recall = sum_TP/(sum_TP+sum_FN)\n",
        "precision = sum_TP/(sum_TP+sum_FP)"
      ],
      "metadata": {
        "id": "t26uJfHhnR3q"
      },
      "execution_count": null,
      "outputs": []
    },
    {
      "cell_type": "code",
      "source": [
        "IoU_pred = Eva_table['IoU_img'].tolist()\n",
        "aa = []\n",
        "for m in IoU_pred: \n",
        "    if m.shape[0] >1:\n",
        "        a_ =[]\n",
        "        for i in range(m.shape[1]):\n",
        "            a = max(m[0][i],m[1][i])\n",
        "            a_.append(float(a))\n",
        "        a = np.mean(a_)\n",
        "        aa.append(a)\n",
        "    else:\n",
        "        a = m.mean()\n",
        "        aa.append(float(a))\n",
        "\n",
        "print('\\n', 'IoU :', aa)\n",
        "print('\\n', 'IoU Avg :', np.mean(aa))"
      ],
      "metadata": {
        "id": "d56kgpc9nV_l"
      },
      "execution_count": null,
      "outputs": []
    },
    {
      "cell_type": "code",
      "source": [
        "print(f'True Positive ** SUM = {sum_TP}')\n",
        "print(f'{list(Eva_table.TP)}')\n",
        "print('-' * 50)\n",
        "print(f'False  Positive ** SUM = {sum_FP}')\n",
        "print(f'{list(Eva_table.FP)}')\n",
        "print('-' * 50)\n",
        "print(f'False Negative  ** SUM = {sum_FN}')\n",
        "print(f'{list(Eva_table.FN)}\\n')\n",
        "print('-' * 50)\n",
        "print(f'Precision ** : {precision}\\n')\n",
        "print(f'Recall ** : {recall}\\n')\n",
        "print('-' * 50)\n",
        "\n",
        "print(f' Result Dataframe {Eva_table.shape}')\n",
        "Eva_table"
      ],
      "metadata": {
        "id": "RzSu60FBnY1X"
      },
      "execution_count": null,
      "outputs": []
    },
    {
      "cell_type": "code",
      "source": [
        "print(f'Number** Bbox Prediction TP : {int(sum(Eva_table.TP))}\\n')\n",
        "sum_count0 = sum(list(Eva_table['count']))\n",
        "print(f'Number** Bbox ground Truth : {int(sum_count0)}')"
      ],
      "metadata": {
        "id": "Rggb5RrancsZ"
      },
      "execution_count": null,
      "outputs": []
    },
    {
      "cell_type": "code",
      "source": [
        "neg = np.array([[0, sum_FP]]) ## TN, FP \n",
        "pos = np.array([[sum_FN, sum_TP]]) ## FN, TP\n",
        "cf_matrix = np.concatenate((neg, pos), axis=0)\n",
        "cf_matrix\n",
        "print(cf_matrix)\n",
        "#labels = [‘True Neg’,’False Pos’,’False Neg’,’True Pos’]"
      ],
      "metadata": {
        "id": "PNyAMV5Angc2"
      },
      "execution_count": null,
      "outputs": []
    },
    {
      "cell_type": "code",
      "source": [
        "from sklearn.metrics import confusion_matrix\n",
        "import matplotlib.pyplot as plt\n",
        "import seaborn as sns\n",
        "\n",
        "sns.set()\n",
        "fig, ax = plt.subplots(figsize=(8, 5))\n",
        "\n",
        "ax = sns.heatmap(cf_matrix, annot=True, fmt=\"d\", cmap=\"YlGnBu\") #Blues,Oranges,Reds\n",
        "ax.set_title('Confusion matrix',fontsize=20)\n",
        "ax.set_ylabel('True label',fontsize=18)\n",
        "ax.set_xlabel('Predicted label',fontsize=18)"
      ],
      "metadata": {
        "id": "iImmLOfDnjXa"
      },
      "execution_count": null,
      "outputs": []
    },
    {
      "cell_type": "code",
      "source": [
        "group_names = ['True Neg','False Pos','False Neg','True Pos' ]\n",
        "group_counts = ['{0:0.0f}'.format(value) for value in\n",
        "                cf_matrix.flatten()]\n",
        "#xyplotlabels = ['True Label' ,'Predicted Label']\n",
        "# group_percentages = ['{0:.2%}'.format(value) for value in\n",
        "#                      cf_matrix.flatten()/np.sum(cf_matrix)]\n",
        "labels = [f'{v1}\\n{v2}' for v1, v2 in\n",
        "          zip(group_names,group_counts)]\n",
        "labels = np.asarray(labels).reshape(2,2)\n",
        "plt.figure(figsize=(8,5))\n",
        "sns.heatmap(cf_matrix, annot=labels, fmt='', cmap='Blues')\n",
        "plt.ylabel('True label',fontsize=18)\n",
        "plt.xlabel('Predicted label', fontsize=18)\n",
        "plt.title('Confusion Matrix', fontsize=20)"
      ],
      "metadata": {
        "id": "rE6C55Jmnlni"
      },
      "execution_count": null,
      "outputs": []
    },
    {
      "cell_type": "code",
      "source": [
        "# Plot img Prediction\n",
        "import numpy as np\n",
        "%matplotlib inline\n",
        "from matplotlib import pyplot as plt\n",
        "plt.rcParams[\"axes.grid\"] = False\n",
        "\n",
        "res = Eva_table\n",
        "w = 20\n",
        "h = 20\n",
        "fig = plt.figure(figsize=(30, 10))\n",
        "columns = 5\n",
        "rows = 2\n",
        "\n",
        "fileName = Eva_table['fileName'].tolist()\n",
        "for m in range(1, columns*rows +1):\n",
        "    res = Eva_table[Eva_table['fileName'] ==fileName[m-1]]\n",
        "\n",
        "    i = 0\n",
        "    #load image origin save to test.jpg\n",
        "    import cv2\n",
        "    from IPython.display import Image\n",
        "    img_path = res['Path'].tolist()[0]\n",
        "    img_c = cv2.imread(img_path)\n",
        "\n",
        "    for j in range(len(res['gt_xmin'].tolist()[i])):\n",
        "        xmin_pre = int(res['gt_xmin'].tolist()[i][j])\n",
        "        ymin_pre = int(res['gt_ymin'].tolist()[i][j])\n",
        "        xmax_pre = int(res['gt_xmax'].tolist()[i][j])\n",
        "        ymax_pre = int(res['gt_ymax'].tolist()[i][j])\n",
        "        if j == 0:\n",
        "            image_pre = cv2.rectangle(img_c, (xmin_pre ,ymin_pre), (xmax_pre, ymax_pre), (0,255,0), 6)\n",
        "        else:\n",
        "            image_pre = cv2.rectangle(image_pre, (xmin_pre ,ymin_pre), (xmax_pre, ymax_pre), (0,255,0), 6)\n",
        "\n",
        "    for j in range(len(res['pred_xmin'].tolist()[i])):\n",
        "        xmin_pre = int(res['pred_xmin'].tolist()[i][j])\n",
        "        ymin_pre = int(res['pred_ymin'].tolist()[i][j])\n",
        "        xmax_pre = int(res['pred_xmax'].tolist()[i][j])\n",
        "        ymax_pre = int(res['pred_ymax'].tolist()[i][j])\n",
        "        if j == 0:\n",
        "            image_pre = cv2.rectangle(image_pre, (xmin_pre ,ymin_pre), (xmax_pre, ymax_pre), (255, 0, 0), 4)\n",
        "        else:\n",
        "            image_pre = cv2.rectangle(image_pre, (xmin_pre ,ymin_pre), (xmax_pre, ymax_pre), (255, 0, 0), 4)\n",
        "\n",
        "    fig.add_subplot(rows, columns, m)\n",
        "    plt.imshow(image_pre)\n",
        "    plt.axis('off')\n",
        "        \n",
        "plt.show()"
      ],
      "metadata": {
        "id": "Vk5pvc7onpYx"
      },
      "execution_count": null,
      "outputs": []
    }
  ]
}